{
 "cells": [
  {
   "cell_type": "code",
   "execution_count": 45,
   "metadata": {},
   "outputs": [],
   "source": [
    "import pandas as pd\n",
    "import requests\n",
    "from bs4 import BeautifulSoup\n",
    "import seaborn as sns\n",
    "import matplotlib.pyplot as plt"
   ]
  },
  {
   "cell_type": "code",
   "execution_count": 27,
   "metadata": {},
   "outputs": [],
   "source": [
    "def parse_research_url(url):\n",
    "    \"\"\"\n",
    "    Function to parse the url and collect citations and h-index from a Pure URL\n",
    "    \"\"\"\n",
    "    html_text = requests.get(url).text\n",
    "    soup = BeautifulSoup(html_text, \"html.parser\")\n",
    "\n",
    "\n",
    "    metrics = list()\n",
    "\n",
    "    for tab in soup.find_all(\"div\", class_=\"metrics-hindices\"):\n",
    "        for metric in tab.find_all(\"ul\", class_=\"metrics-list\"):\n",
    "            metrics = [x.get_text() for x in metric.find_all(\"div\", class_=\"value\")]\n",
    "\n",
    "    return metrics\n"
   ]
  },
  {
   "cell_type": "code",
   "execution_count": 39,
   "metadata": {},
   "outputs": [],
   "source": [
    "# Read the list with the URLs\n",
    "# This list was obtained from the UNAB pure website, selecting all researchers from Facultad Ciencias de la Vida\n",
    "citations_values = []\n",
    "h_index_values = []\n",
    "\n",
    "with open(\"res_urls.txt\") as input_file:\n",
    "    urls = [line.rstrip() for line in input_file]\n",
    "\n",
    "    for url in urls:\n",
    "        try:\n",
    "            citation, h_index = parse_research_url(url)\n",
    "        except ValueError: # Some profiles are empty\n",
    "            continue\n",
    "        citations_values.append(int(citation))\n",
    "        h_index_values.append(int(h_index))"
   ]
  },
  {
   "cell_type": "code",
   "execution_count": 40,
   "metadata": {},
   "outputs": [
    {
     "data": {
      "text/html": [
       "<div>\n",
       "<style scoped>\n",
       "    .dataframe tbody tr th:only-of-type {\n",
       "        vertical-align: middle;\n",
       "    }\n",
       "\n",
       "    .dataframe tbody tr th {\n",
       "        vertical-align: top;\n",
       "    }\n",
       "\n",
       "    .dataframe thead th {\n",
       "        text-align: right;\n",
       "    }\n",
       "</style>\n",
       "<table border=\"1\" class=\"dataframe\">\n",
       "  <thead>\n",
       "    <tr style=\"text-align: right;\">\n",
       "      <th></th>\n",
       "      <th>citations</th>\n",
       "      <th>h_index</th>\n",
       "    </tr>\n",
       "  </thead>\n",
       "  <tbody>\n",
       "    <tr>\n",
       "      <th>0</th>\n",
       "      <td>105</td>\n",
       "      <td>5</td>\n",
       "    </tr>\n",
       "    <tr>\n",
       "      <th>1</th>\n",
       "      <td>220</td>\n",
       "      <td>5</td>\n",
       "    </tr>\n",
       "    <tr>\n",
       "      <th>2</th>\n",
       "      <td>1140</td>\n",
       "      <td>21</td>\n",
       "    </tr>\n",
       "    <tr>\n",
       "      <th>3</th>\n",
       "      <td>844</td>\n",
       "      <td>12</td>\n",
       "    </tr>\n",
       "    <tr>\n",
       "      <th>4</th>\n",
       "      <td>11</td>\n",
       "      <td>2</td>\n",
       "    </tr>\n",
       "    <tr>\n",
       "      <th>...</th>\n",
       "      <td>...</td>\n",
       "      <td>...</td>\n",
       "    </tr>\n",
       "    <tr>\n",
       "      <th>79</th>\n",
       "      <td>192</td>\n",
       "      <td>7</td>\n",
       "    </tr>\n",
       "    <tr>\n",
       "      <th>80</th>\n",
       "      <td>1435</td>\n",
       "      <td>19</td>\n",
       "    </tr>\n",
       "    <tr>\n",
       "      <th>81</th>\n",
       "      <td>772</td>\n",
       "      <td>16</td>\n",
       "    </tr>\n",
       "    <tr>\n",
       "      <th>82</th>\n",
       "      <td>309</td>\n",
       "      <td>9</td>\n",
       "    </tr>\n",
       "    <tr>\n",
       "      <th>83</th>\n",
       "      <td>11</td>\n",
       "      <td>2</td>\n",
       "    </tr>\n",
       "  </tbody>\n",
       "</table>\n",
       "<p>84 rows × 2 columns</p>\n",
       "</div>"
      ],
      "text/plain": [
       "    citations  h_index\n",
       "0         105        5\n",
       "1         220        5\n",
       "2        1140       21\n",
       "3         844       12\n",
       "4          11        2\n",
       "..        ...      ...\n",
       "79        192        7\n",
       "80       1435       19\n",
       "81        772       16\n",
       "82        309        9\n",
       "83         11        2\n",
       "\n",
       "[84 rows x 2 columns]"
      ]
     },
     "execution_count": 40,
     "metadata": {},
     "output_type": "execute_result"
    }
   ],
   "source": [
    "# Create dataframe\n",
    "df = pd.DataFrame(data = {\"citations\": citations_values,\n",
    "                  \"h_index\" : h_index_values}\n",
    ")\n",
    "df"
   ]
  },
  {
   "cell_type": "code",
   "execution_count": 41,
   "metadata": {},
   "outputs": [
    {
     "data": {
      "text/plain": [
       "0.25     409.25\n",
       "0.50     817.00\n",
       "0.75    1495.75\n",
       "Name: citations, dtype: float64"
      ]
     },
     "execution_count": 41,
     "metadata": {},
     "output_type": "execute_result"
    }
   ],
   "source": [
    "# Calculate quartiles for citations\n",
    "df[\"citations\"].quantile([0.25, 0.5, 0.75])"
   ]
  },
  {
   "cell_type": "code",
   "execution_count": 42,
   "metadata": {},
   "outputs": [
    {
     "data": {
      "text/plain": [
       "0.25    10.0\n",
       "0.50    16.0\n",
       "0.75    21.0\n",
       "Name: h_index, dtype: float64"
      ]
     },
     "execution_count": 42,
     "metadata": {},
     "output_type": "execute_result"
    }
   ],
   "source": [
    "# Calculate quartiles for h_index\n",
    "df[\"h_index\"].quantile([0.25, 0.5, 0.75])"
   ]
  },
  {
   "cell_type": "code",
   "execution_count": 92,
   "metadata": {},
   "outputs": [
    {
     "data": {
      "image/png": "[encoded data removed]",
      "text/plain": [
       "<Figure size 300x450 with 1 Axes>"
      ]
     },
     "metadata": {},
     "output_type": "display_data"
    }
   ],
   "source": [
    "# Boxplot of h_index\n",
    "plt.figure(figsize = (3,4.5))\n",
    "\n",
    "ax = sns.boxplot( y=\"h_index\", data=df, color=\"#7F3C8D\")\n",
    "ax = sns.swarmplot(y=\"h_index\", data = df, color=\"#11A579\", marker=\".\", size=10)\n",
    "ax.plot(0,22, marker=\"o\", markersize=10, color=\"#f97b72\")\n",
    "\n",
    "ax.set_ylabel(\"H-index\")\n",
    "\n",
    "ax.spines[\"right\"].set_visible(False)\n",
    "ax.spines[\"top\"].set_visible(False)\n",
    "ax.spines[\"bottom\"].set_visible(False)\n",
    "\n",
    "\n",
    "plt.tight_layout()\n",
    "plt.savefig(\"hindex.png\", dpi=300,)\n",
    "plt.show()\n",
    "#7F3C8D,#11A579,#3969AC,#F2B701,#E73F74,#80BA5A,#E68310,#008695,#CF1C90,#f97b72,#4b4b8f,#A5AA99"
   ]
  },
  {
   "cell_type": "code",
   "execution_count": 93,
   "metadata": {},
   "outputs": [
    {
     "name": "stderr",
     "output_type": "stream",
     "text": [
      "/Users/jugalde/anaconda3/lib/python3.10/site-packages/seaborn/categorical.py:3544: UserWarning: 17.9% of the points cannot be placed; you may want to decrease the size of the markers or use stripplot.\n",
      "  warnings.warn(msg, UserWarning)\n",
      "/Users/jugalde/anaconda3/lib/python3.10/site-packages/seaborn/categorical.py:3544: UserWarning: 16.7% of the points cannot be placed; you may want to decrease the size of the markers or use stripplot.\n",
      "  warnings.warn(msg, UserWarning)\n"
     ]
    },
    {
     "data": {
      "image/png": "[encoded data removed]",
      "text/plain": [
       "<Figure size 300x450 with 1 Axes>"
      ]
     },
     "metadata": {},
     "output_type": "display_data"
    }
   ],
   "source": [
    "# Boxplot of citations\n",
    "plt.figure(figsize = (3,4.5))\n",
    "\n",
    "ax = sns.boxplot( y=\"citations\", data=df, color=\"#7F3C8D\")\n",
    "ax = sns.swarmplot(y=\"citations\", data = df, color=\"#11A579\", marker=\".\", size=10)\n",
    "ax.plot(0,2378, marker=\"o\", markersize=10, color=\"#f97b72\")\n",
    "\n",
    "ax.set_ylabel(\"Citations\")\n",
    "\n",
    "ax.spines[\"right\"].set_visible(False)\n",
    "ax.spines[\"top\"].set_visible(False)\n",
    "ax.spines[\"bottom\"].set_visible(False)\n",
    "\n",
    "\n",
    "plt.tight_layout()\n",
    "plt.savefig(\"citations.png\", dpi=300,)\n",
    "plt.show()"
   ]
  },
  {
   "cell_type": "code",
   "execution_count": null,
   "metadata": {},
   "outputs": [],
   "source": []
  }
 ],
 "metadata": {
  "kernelspec": {
   "display_name": "base",
   "language": "python",
   "name": "python3"
  },
  "language_info": {
   "codemirror_mode": {
    "name": "ipython",
    "version": 3
   },
   "file_extension": ".py",
   "mimetype": "text/x-python",
   "name": "python",
   "nbconvert_exporter": "python",
   "pygments_lexer": "ipython3",
   "version": "3.10.9"
  }
 },
 "nbformat": 4,
 "nbformat_minor": 2
}
